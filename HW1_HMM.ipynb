{
 "cells": [
  {
   "cell_type": "code",
   "execution_count": 264,
   "metadata": {},
   "outputs": [],
   "source": [
    "import random\n",
    "import numpy as np\n",
    "import math"
   ]
  },
  {
   "cell_type": "code",
   "execution_count": 290,
   "metadata": {},
   "outputs": [],
   "source": [
    "E = np.array([[1/6,1/6,1/6,1/6,1/6,1/6],[0.1,0.1,0.1,0.1,0.1,0.5]])\n",
    "A = np.array([[0.95,0.05],[0.1,0.9]])\n",
    "L = 300"
   ]
  },
  {
   "cell_type": "code",
   "execution_count": 291,
   "metadata": {},
   "outputs": [
    {
     "name": "stdout",
     "output_type": "stream",
     "text": [
      "Наблюдения:\n",
      "[6 2 3 3 1 6 6 6 4 2 6 4 6 6 2 2 1 1 5 4 2 2 3 2 4 1 5 4 5 2 2 5 4 3 5 1 6\n",
      " 2 4 6 4 6 6 4 3 1 1 6 3 3 6 6 6 2 2 1 4 2 1 4 2 4 1 6 4 2 6 1 6 6 6 6 2 6\n",
      " 1 6 1 1 5 4 4 3 2 6 1 1 5 3 4 2 6 6 3 4 4 2 2 3 2 4 1 2 2 3 4 2 4 3 6 2 6\n",
      " 6 2 2 2 4 5 4 2 2 2 4 3 3 2 3 5 4 1 2 5 2 1 4 1 4 6 6 6 6 6 6 4 6 2 4 6 4\n",
      " 6 6 2 4 6 6 4 1 2 2 6 6 2 6 4 1 6 2 6 6 1 3 2 6 4 6 6 2 4 3 1 5 2 4 4 1 4\n",
      " 4 5 5 3 2 5 1 5 1 4 5 1 3 4 4 1 1 2 1 2 4 1 6 4 2 6 4 3 6 3 3 4 3 5 4 5 3\n",
      " 4 4 3 4 3 1 3 3 3 4 4 1 5 1 3 4 4 3 3 3 1 4 1 5 5 2 3 1 3 4 2 4 1 1 5 4 3\n",
      " 4 4 5 2 5 1 3 2 4 1 3 4 3 2 2 4 4 3 4 1 5 1 3 1 1 4 2 2 1 4 5 5 2 3 2 2 5\n",
      " 5 2 3 1]\n",
      "Состояния: \n",
      "[1 1 1 1 1 1 1 1 1 1 1 1 1 1 1 0 0 0 0 0 1 0 0 0 0 0 0 0 0 0 0 0 0 0 0 0 1\n",
      " 1 1 1 1 1 1 1 0 0 1 1 1 1 1 1 1 0 0 0 0 0 0 0 0 0 0 1 1 1 1 1 1 1 1 1 1 1\n",
      " 1 1 0 1 0 0 0 0 1 1 0 0 0 0 1 1 1 1 1 0 0 0 1 1 1 1 1 0 0 0 0 0 0 1 1 1 1\n",
      " 1 0 0 0 0 0 0 0 0 0 0 0 0 0 0 0 0 0 0 0 0 0 0 0 1 1 1 1 1 1 1 1 1 1 1 1 1\n",
      " 1 1 1 1 1 1 1 1 1 1 1 1 1 1 0 0 1 1 1 1 1 1 1 1 1 1 1 1 1 0 0 0 0 0 0 0 0\n",
      " 0 0 0 0 0 0 0 0 0 0 0 0 0 0 0 0 0 0 0 0 0 0 1 1 1 1 1 1 1 0 0 0 0 0 0 0 0\n",
      " 0 0 0 0 0 0 0 0 0 0 0 0 0 0 0 0 0 0 0 0 0 0 0 0 0 0 0 0 0 0 0 0 0 0 0 0 0\n",
      " 0 0 0 0 0 0 0 0 0 0 0 0 0 0 0 0 0 0 0 0 0 0 0 0 0 0 0 0 0 0 0 0 0 0 0 0 0\n",
      " 0 0 0 0]\n"
     ]
    }
   ],
   "source": [
    "#случайная последовательность при заданных параметрах E и A\n",
    "def HMM(E, A, L):\n",
    "    Path = np.zeros((L,), dtype=int)\n",
    "    vec_sost = np.zeros((L,), dtype=int)\n",
    "    s = stationary_distribution(A)\n",
    "\n",
    "    #Случайным образом выбирается стратегия игры (d=0 fair P=2/3, d=1 unfair P=1/3)\n",
    "    d_rand = np.random.random()\n",
    "    if d_rand <= s[0]: d = 0\n",
    "    else: d = 1\n",
    "    vec_sost[0] = d\n",
    "    \n",
    "    if vec_sost[0] == 0:\n",
    "        Path[0] = np.random.randint(1, 6)\n",
    "    elif vec_sost[0] == 1:\n",
    "        e_rand = np.random.random()\n",
    "        if e_rand < 0.5:\n",
    "            Path[0] = 6\n",
    "        else:\n",
    "            Path[0] = np.random.randint(1, 5)\n",
    "    \n",
    "    for i in range(1,L):\n",
    "        a_rand = np.random.random()\n",
    "        if (d == 0) and (a_rand <= 0.05): d = 1\n",
    "        elif (d == 1) and (a_rand <= 0.1): d = 0\n",
    "        \n",
    "        if d == 0:\n",
    "            vec_sost[i] = 0\n",
    "            Path[i] = np.random.randint(1, 6)\n",
    "        elif d == 1:\n",
    "            vec_sost[i] = 1\n",
    "            e_rand = np.random.random()\n",
    "            if e_rand >= 0.5:\n",
    "                Path[i] = 6\n",
    "            else:\n",
    "                Path[i] = np.random.randint(1, 5)\n",
    "    return(Path, vec_sost)\n",
    "\n",
    "\n",
    "Path, vec_sost = HMM(E, A, L)\n",
    "\n",
    "print(\"Наблюдения:\", Path, \"Состояния: \", vec_sost, sep = '\\n')"
   ]
  },
  {
   "cell_type": "markdown",
   "metadata": {},
   "source": [
    "# Viterbi"
   ]
  },
  {
   "cell_type": "code",
   "execution_count": 292,
   "metadata": {},
   "outputs": [
    {
     "name": "stdout",
     "output_type": "stream",
     "text": [
      "\n",
      "Частота совпадения: 0.8266666666666667\n",
      "LLLLLLLLLLLLLLLFFFFFLFFFFFFFFFFFFFFFLLLLLLLLFFLLLLLLLFFFFFFFFFFLLLLLLLLLLLLLFLFFFFLLFFFFLLLLLFFFLLLLLFFFFFFLLLLLFFFFFFFFFFFFFFFFFFFFFFFLLLLLLLLLLLLLLLLLLLLLLLLLLLFFLLLLLLLLLLLLLFFFFFFFFFFFFFFFFFFFFFFFFFFFFFFLLLLLLLFFFFFFFFFFFFFFFFFFFFFFFFFFFFFFFFFFFFFFFFFFFFFFFFFFFFFFFFFFFFFFFFFFFFFFFFFFFFFFFFFFFFFF\n",
      "____________________________________________________________________________________________________\n",
      "oLLLLLLLLLLLLLLFFFFFFFFFFFFFFFFFFFFFFFFFFFFFFFFFFFFFFFFFFFFFFFFFFFFLLLLLLLLLLFFFFFFFFFFFFFFFFFFFFFFFFFFFFFFFFFFFFFFFFFFFFFFFFFFFFFFFFFFFFLLLLLLLLLLLLLLLLLLLLLLLLLLLLLLLLLLLLLLLFFFFFFFFFFFFFFFFFFFFFFFFFFFFFFFFFFFFFFFFFFFFFFFFFFFFFFFFFFFFFFFFFFFFFFFFFFFFFFFFFFFFFFFFFFFFFFFFFFFFFFFFFFFFFFFFFFFFFFFFFFFF\n"
     ]
    }
   ],
   "source": [
    "def viterby (Path, A,E):\n",
    "    V_matr = np.zeros((2, L))\n",
    "    s = stationary_distribution(A)\n",
    "    P_matr = [[-1],[-1]]\n",
    "\n",
    "    V_matr[0][0] = s[0]*E[0][Path[0]-1]\n",
    "    V_matr[1][0] = s[1]*E[1][Path[0]-1]\n",
    "\n",
    "    for i in range (1,L):\n",
    "        for j in range(2):\n",
    "            V_matr[j][i] = E[j][Path[i]-1]*max(A[0][j]*V_matr[0][i-1], A[1][j]*V_matr[1][i-1])\n",
    "            P_matr[j].append(np.argmax([A[0][j]*V_matr[0][i-1], A[1][j]*V_matr[1][i-1]]))\n",
    "    P_matr = np.array(P_matr)\n",
    "    \n",
    "    #Нахождение наиболее вероятной траектории:\n",
    "    P_vec = np.zeros(L)\n",
    "    P_vec[-1] = np.argmax([V_matr[0][-1],V_matr[1][-1]])\n",
    "    for i in range(L-2,-1,-1):\n",
    "        P_vec[i] = P_matr[int(P_vec[i+1])][i]\n",
    "    return(P_vec)\n",
    "\n",
    "\n",
    "def translation(l):\n",
    "    L = len(l)\n",
    "    c = ''\n",
    "    dec = {0:'F', 1:'L'}\n",
    "    for i in range(L):\n",
    "        if l[i]!=-1:\n",
    "            c += dec[l[i]]\n",
    "        else:\n",
    "            c += \"o\"\n",
    "    return c\n",
    "\n",
    "s=0\n",
    "P_vec = viterby (Path, A,E)\n",
    "\n",
    "for i in range(L):\n",
    "    if translation(vec_sost)[i] == translation(P_vec)[i]:\n",
    "        s+=1\n",
    "print('\\nЧастота совпадения:', s/L)\n",
    "\n",
    "\n",
    "print(translation(vec_sost),\"_\"*100, translation(P_vec), sep='\\n')"
   ]
  },
  {
   "cell_type": "code",
   "execution_count": 293,
   "metadata": {},
   "outputs": [
    {
     "data": {
      "image/png": "[encoded data removed]",
      "text/plain": [
       "<Figure size 432x288 with 1 Axes>"
      ]
     },
     "metadata": {},
     "output_type": "display_data"
    }
   ],
   "source": [
    "from pylab import *\n",
    "plot(array(P_vec[1:]))\n",
    "show()"
   ]
  },
  {
   "cell_type": "markdown",
   "metadata": {},
   "source": [
    "# Forward"
   ]
  },
  {
   "cell_type": "code",
   "execution_count": 294,
   "metadata": {},
   "outputs": [
    {
     "name": "stdout",
     "output_type": "stream",
     "text": [
      "9.761535455167552e-231\n"
     ]
    }
   ],
   "source": [
    "FV_matr = np.zeros((2, L))\n",
    "m_F = np.zeros(L)\n",
    "s = stationary_distribution(A)\n",
    "FV_matr[0][0] = 1\n",
    "FV_matr[1][0] = 1\n",
    "FV_matr[0][1] = E[0][Path[0]-1]*s[0]\n",
    "FV_matr[1][1] = E[1][Path[0]-1]*s[1]\n",
    "\n",
    "for i in range (2,L):\n",
    "    for j in range(2):        \n",
    "        FV_matr[j][i] = E[j][Path[i-1]-1]*(A[0][j]*FV_matr[0][i-1] + A[1][j]*FV_matr[1][i-1])\n",
    "    \n",
    "    \n",
    "        \n",
    "#F_res = FV_matr[0][-1]*A[0][0] + FV_matr[1][-1]*A[1][0]\n",
    "F_res = FV_matr[0][-1] + FV_matr[1][-1]\n",
    "print(F_res)\n"
   ]
  },
  {
   "cell_type": "markdown",
   "metadata": {},
   "source": [
    "# Backward"
   ]
  },
  {
   "cell_type": "code",
   "execution_count": 295,
   "metadata": {},
   "outputs": [
    {
     "name": "stdout",
     "output_type": "stream",
     "text": [
      "9.761535455167678e-231\n"
     ]
    }
   ],
   "source": [
    "BV_matr = np.zeros((2, L))\n",
    "m_b = np.zeros(L)\n",
    "s = stationary_distribution(A)\n",
    "#BV_matr[0][-1]=A[0][0]\n",
    "#BV_matr[1][-1]=A[1][0]\n",
    "BV_matr[0][-1]=1\n",
    "BV_matr[1][-1]=1\n",
    "for i in range (L-2,-1,-1):\n",
    "    for j in range(2):\n",
    "        BV_matr[j][i] = A[j][0]*E[0][Path[i]-1]*BV_matr[0][i+1]+A[j][1]*E[1][Path[i]-1]*BV_matr[1][i+1]\n",
    "    \n",
    "    \n",
    "    \n",
    "B_res = BV_matr[0][0]*s[0] + BV_matr[1][0]*s[1]\n",
    "#B_res = A[0][0]*E[0][Path[0]-1]*BV_matr[0][0] + A[0][1]*E[1][Path[0]-1]*BV_matr[1][0]\n",
    "print(B_res)\n"
   ]
  },
  {
   "cell_type": "code",
   "execution_count": 300,
   "metadata": {},
   "outputs": [
    {
     "name": "stdout",
     "output_type": "stream",
     "text": [
      "[0.75286421 0.47283467 0.52797286 0.53644892 0.50125607 0.40996639\n",
      " 0.23034211 0.17672021 0.18344017 0.25873063 0.28130576 0.25913767\n",
      " 0.30589572 0.30554554 0.38734368 0.65145277 0.79846558 0.8802978\n",
      " 0.92584744 0.95119977 0.96530765 0.97315308 0.9775066  0.97990559\n",
      " 0.98119722 0.98183761 0.98205292 0.98191916 0.98138912 0.9802756\n",
      " 0.97818539 0.97438035 0.96751678 0.95517091 0.93298293 0.89311746\n",
      " 0.8214965  0.69282804 0.6737342  0.61180431 0.48516861 0.46713193\n",
      " 0.39830372 0.41332563 0.53059215 0.58421411 0.5931274  0.56047964\n",
      " 0.47474169 0.48066436 0.4411733  0.34232274 0.33451068 0.40817117\n",
      " 0.65350221 0.78946573 0.86407552 0.90367907 0.92226188 0.92638621\n",
      " 0.91750854 0.89249382 0.84250841 0.74990063 0.58196719 0.54464527\n",
      " 0.45173871 0.27043875 0.21828672 0.10019418 0.06274476 0.06008127\n",
      " 0.08894225 0.18466824 0.22274275 0.36580371 0.43379197 0.66689725\n",
      " 0.7959713  0.86659499 0.90370819 0.92041693 0.9226217  0.91110108\n",
      " 0.88178671 0.91577539 0.93152076 0.93458308 0.9260438  0.90288736\n",
      " 0.85693637 0.77196382 0.77428938 0.86676072 0.91822071 0.94684178\n",
      " 0.9627311  0.97149979 0.97624439 0.9786404  0.97953394 0.97924055\n",
      " 0.97765662 0.97422281 0.96772652 0.95587366 0.93447855 0.89598577\n",
      " 0.82680208 0.70249616 0.68542626 0.62683135 0.65391461 0.79983976\n",
      " 0.88106694 0.92628048 0.95144697 0.96545363 0.97324675 0.97757835\n",
      " 0.97997809 0.9812934  0.98198878 0.98230979 0.98236978 0.98218995\n",
      " 0.98170677 0.98074964 0.97898055 0.97577476 0.9700002  0.95961765\n",
      " 0.94096065 0.90744071 0.84722069 0.73903467 0.54467812 0.19551651\n",
      " 0.07434266 0.03277796 0.01992607 0.02004969 0.0333002  0.07590301\n",
      " 0.08167275 0.13057672 0.13738922 0.10451602 0.11488437 0.08773147\n",
      " 0.09903799 0.16264887 0.17906444 0.15408164 0.1816618  0.2955771\n",
      " 0.34449592 0.34569331 0.29959212 0.18991229 0.16514577 0.19496573\n",
      " 0.18239776 0.22933157 0.23057221 0.18655782 0.20206475 0.17505843\n",
      " 0.2042971  0.32558383 0.37934013 0.38454935 0.34305106 0.37772972\n",
      " 0.36635677 0.43780084 0.67954591 0.81411044 0.8890142  0.9307085\n",
      " 0.95391713 0.96683594 0.97402703 0.97802984 0.98025793 0.98149811\n",
      " 0.98218834 0.98257235 0.98278576 0.98290393 0.98296859 0.98300258\n",
      " 0.98301789 0.98301995 0.98300946 0.98298274 0.98293033 0.98283374\n",
      " 0.98265885 0.98234392 0.98177771 0.98076028 0.97893233 0.97564836\n",
      " 0.96974867 0.95914987 0.94010911 0.90590239 0.84445005 0.8564742\n",
      " 0.84600663 0.80935083 0.84600663 0.85647421 0.84445006 0.90590241\n",
      " 0.94010913 0.9591499  0.96974871 0.97564842 0.97893242 0.98076043\n",
      " 0.98177796 0.98234436 0.98265964 0.98283514 0.98293282 0.9829872\n",
      " 0.98301747 0.98303432 0.9830437  0.98304892 0.98305182 0.98305344\n",
      " 0.98305434 0.98305484 0.98305512 0.98305528 0.98305536 0.98305541\n",
      " 0.98305544 0.98305545 0.98305546 0.98305546 0.98305547 0.98305547\n",
      " 0.98305547 0.98305547 0.98305547 0.98305547 0.98305547 0.98305547\n",
      " 0.98305547 0.98305547 0.98305547 0.98305547 0.98305547 0.98305547\n",
      " 0.98305547 0.98305547 0.98305547 0.98305547 0.98305547 0.98305547\n",
      " 0.98305547 0.98305547 0.98305547 0.98305547 0.98305547 0.98305547\n",
      " 0.98305547 0.98305547 0.98305546 0.98305546 0.98305545 0.98305543\n",
      " 0.9830554  0.98305534 0.98305524 0.98305506 0.98305474 0.98305415\n",
      " 0.9830531  0.98305121 0.98304782 0.98304172 0.98303077 0.9830111\n",
      " 0.98297576 0.98291228 0.98279822 0.98259333 0.98222523 0.98156395\n",
      " 0.98037595 0.97824171 0.97440756 0.96751951 0.95514513 0.93291456]\n"
     ]
    }
   ],
   "source": [
    "#Апостериорное дешифрование\n",
    "def aposter(For_matr, Back_matr, L):\n",
    "    apstr = np.zeros(L)\n",
    "    for i in range(L):\n",
    "        apstr[i] = (For_matr[0][i]*Back_matr[0][i])/(For_matr[0][-1] + For_matr[1][-1])\n",
    "    return(apstr)\n",
    "\n",
    "\n",
    "apstr = aposter(FV_matr, BV_matr, L)\n",
    "print(apstr)"
   ]
  },
  {
   "cell_type": "code",
   "execution_count": null,
   "metadata": {},
   "outputs": [],
   "source": []
  }
 ],
 "metadata": {
  "kernelspec": {
   "display_name": "Python 3",
   "language": "python",
   "name": "python3"
  },
  "language_info": {
   "codemirror_mode": {
    "name": "ipython",
    "version": 3
   },
   "file_extension": ".py",
   "mimetype": "text/x-python",
   "name": "python",
   "nbconvert_exporter": "python",
   "pygments_lexer": "ipython3",
   "version": "3.6.5"
  }
 },
 "nbformat": 4,
 "nbformat_minor": 2
}

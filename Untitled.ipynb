{
 "cells": [
  {
   "cell_type": "code",
   "execution_count": 264,
   "metadata": {},
   "outputs": [],
   "source": [
    "import random\n",
    "import numpy as np\n",
    "import math"
   ]
  },
  {
   "cell_type": "code",
   "execution_count": 290,
   "metadata": {},
   "outputs": [],
   "source": [
    "E = np.array([[1/6,1/6,1/6,1/6,1/6,1/6],[0.1,0.1,0.1,0.1,0.1,0.5]])\n",
    "A = np.array([[0.95,0.05],[0.1,0.9]])\n",
    "L = 300"
   ]
  },
  {
   "cell_type": "code",
   "execution_count": 291,
   "metadata": {},
   "outputs": [
    {
     "name": "stdout",
     "output_type": "stream",
     "text": [
      "Наблюдения:\n",
      "[6 2 3 3 1 6 6 6 4 2 6 4 6 6 2 2 1 1 5 4 2 2 3 2 4 1 5 4 5 2 2 5 4 3 5 1 6\n",
      " 2 4 6 4 6 6 4 3 1 1 6 3 3 6 6 6 2 2 1 4 2 1 4 2 4 1 6 4 2 6 1 6 6 6 6 2 6\n",
      " 1 6 1 1 5 4 4 3 2 6 1 1 5 3 4 2 6 6 3 4 4 2 2 3 2 4 1 2 2 3 4 2 4 3 6 2 6\n",
      " 6 2 2 2 4 5 4 2 2 2 4 3 3 2 3 5 4 1 2 5 2 1 4 1 4 6 6 6 6 6 6 4 6 2 4 6 4\n",
      " 6 6 2 4 6 6 4 1 2 2 6 6 2 6 4 1 6 2 6 6 1 3 2 6 4 6 6 2 4 3 1 5 2 4 4 1 4\n",
      " 4 5 5 3 2 5 1 5 1 4 5 1 3 4 4 1 1 2 1 2 4 1 6 4 2 6 4 3 6 3 3 4 3 5 4 5 3\n",
      " 4 4 3 4 3 1 3 3 3 4 4 1 5 1 3 4 4 3 3 3 1 4 1 5 5 2 3 1 3 4 2 4 1 1 5 4 3\n",
      " 4 4 5 2 5 1 3 2 4 1 3 4 3 2 2 4 4 3 4 1 5 1 3 1 1 4 2 2 1 4 5 5 2 3 2 2 5\n",
      " 5 2 3 1]\n",
      "Состояния: \n",
      "[1 1 1 1 1 1 1 1 1 1 1 1 1 1 1 0 0 0 0 0 1 0 0 0 0 0 0 0 0 0 0 0 0 0 0 0 1\n",
      " 1 1 1 1 1 1 1 0 0 1 1 1 1 1 1 1 0 0 0 0 0 0 0 0 0 0 1 1 1 1 1 1 1 1 1 1 1\n",
      " 1 1 0 1 0 0 0 0 1 1 0 0 0 0 1 1 1 1 1 0 0 0 1 1 1 1 1 0 0 0 0 0 0 1 1 1 1\n",
      " 1 0 0 0 0 0 0 0 0 0 0 0 0 0 0 0 0 0 0 0 0 0 0 0 1 1 1 1 1 1 1 1 1 1 1 1 1\n",
      " 1 1 1 1 1 1 1 1 1 1 1 1 1 1 0 0 1 1 1 1 1 1 1 1 1 1 1 1 1 0 0 0 0 0 0 0 0\n",
      " 0 0 0 0 0 0 0 0 0 0 0 0 0 0 0 0 0 0 0 0 0 0 1 1 1 1 1 1 1 0 0 0 0 0 0 0 0\n",
      " 0 0 0 0 0 0 0 0 0 0 0 0 0 0 0 0 0 0 0 0 0 0 0 0 0 0 0 0 0 0 0 0 0 0 0 0 0\n",
      " 0 0 0 0 0 0 0 0 0 0 0 0 0 0 0 0 0 0 0 0 0 0 0 0 0 0 0 0 0 0 0 0 0 0 0 0 0\n",
      " 0 0 0 0]\n"
     ]
    }
   ],
   "source": [
    "#случайная последовательность при заданных параметрах E и A\n",
    "def HMM(E, A, L):\n",
    "    Path = np.zeros((L,), dtype=int)\n",
    "    vec_sost = np.zeros((L,), dtype=int)\n",
    "    s = stationary_distribution(A)\n",
    "\n",
    "    #Случайным образом выбирается стратегия игры (d=0 fair P=2/3, d=1 unfair P=1/3)\n",
    "    d_rand = np.random.random()\n",
    "    if d_rand <= s[0]: d = 0\n",
    "    else: d = 1\n",
    "    vec_sost[0] = d\n",
    "    \n",
    "    if vec_sost[0] == 0:\n",
    "        Path[0] = np.random.randint(1, 6)\n",
    "    elif vec_sost[0] == 1:\n",
    "        e_rand = np.random.random()\n",
    "        if e_rand < 0.5:\n",
    "            Path[0] = 6\n",
    "        else:\n",
    "            Path[0] = np.random.randint(1, 5)\n",
    "    \n",
    "    for i in range(1,L):\n",
    "        a_rand = np.random.random()\n",
    "        if (d == 0) and (a_rand <= 0.05): d = 1\n",
    "        elif (d == 1) and (a_rand <= 0.1): d = 0\n",
    "        \n",
    "        if d == 0:\n",
    "            vec_sost[i] = 0\n",
    "            Path[i] = np.random.randint(1, 6)\n",
    "        elif d == 1:\n",
    "            vec_sost[i] = 1\n",
    "            e_rand = np.random.random()\n",
    "            if e_rand >= 0.5:\n",
    "                Path[i] = 6\n",
    "            else:\n",
    "                Path[i] = np.random.randint(1, 5)\n",
    "    return(Path, vec_sost)\n",
    "\n",
    "\n",
    "Path, vec_sost = HMM(E, A, L)\n",
    "\n",
    "print(\"Наблюдения:\", Path, \"Состояния: \", vec_sost, sep = '\\n')"
   ]
  },
  {
   "cell_type": "markdown",
   "metadata": {},
   "source": [
    "# Viterbi"
   ]
  },
  {
   "cell_type": "code",
   "execution_count": 292,
   "metadata": {},
   "outputs": [
    {
     "name": "stdout",
     "output_type": "stream",
     "text": [
      "\n",
      "Частота совпадения: 0.8266666666666667\n",
      "LLLLLLLLLLLLLLLFFFFFLFFFFFFFFFFFFFFFLLLLLLLLFFLLLLLLLFFFFFFFFFFLLLLLLLLLLLLLFLFFFFLLFFFFLLLLLFFFLLLLLFFFFFFLLLLLFFFFFFFFFFFFFFFFFFFFFFFLLLLLLLLLLLLLLLLLLLLLLLLLLLFFLLLLLLLLLLLLLFFFFFFFFFFFFFFFFFFFFFFFFFFFFFFLLLLLLLFFFFFFFFFFFFFFFFFFFFFFFFFFFFFFFFFFFFFFFFFFFFFFFFFFFFFFFFFFFFFFFFFFFFFFFFFFFFFFFFFFFFFF\n",
      "____________________________________________________________________________________________________\n",
      "oLLLLLLLLLLLLLLFFFFFFFFFFFFFFFFFFFFFFFFFFFFFFFFFFFFFFFFFFFFFFFFFFFFLLLLLLLLLLFFFFFFFFFFFFFFFFFFFFFFFFFFFFFFFFFFFFFFFFFFFFFFFFFFFFFFFFFFFFLLLLLLLLLLLLLLLLLLLLLLLLLLLLLLLLLLLLLLLFFFFFFFFFFFFFFFFFFFFFFFFFFFFFFFFFFFFFFFFFFFFFFFFFFFFFFFFFFFFFFFFFFFFFFFFFFFFFFFFFFFFFFFFFFFFFFFFFFFFFFFFFFFFFFFFFFFFFFFFFFFF\n"
     ]
    }
   ],
   "source": [
    "def viterby (Path, A,E):\n",
    "    V_matr = np.zeros((2, L))\n",
    "    s = stationary_distribution(A)\n",
    "    P_matr = [[-1],[-1]]\n",
    "\n",
    "    V_matr[0][0] = s[0]*E[0][Path[0]-1]\n",
    "    V_matr[1][0] = s[1]*E[1][Path[0]-1]\n",
    "\n",
    "    for i in range (1,L):\n",
    "        for j in range(2):\n",
    "            V_matr[j][i] = E[j][Path[i]-1]*max(A[0][j]*V_matr[0][i-1], A[1][j]*V_matr[1][i-1])\n",
    "            P_matr[j].append(np.argmax([A[0][j]*V_matr[0][i-1], A[1][j]*V_matr[1][i-1]]))\n",
    "    P_matr = np.array(P_matr)\n",
    "    \n",
    "    #Нахождение наиболее вероятной траектории:\n",
    "    P_vec = np.zeros(L)\n",
    "    P_vec[-1] = np.argmax([V_matr[0][-1],V_matr[1][-1]])\n",
    "    for i in range(L-2,-1,-1):\n",
    "        P_vec[i] = P_matr[int(P_vec[i+1])][i]\n",
    "    return(P_vec)\n",
    "\n",
    "\n",
    "def translation(l):\n",
    "    L = len(l)\n",
    "    c = ''\n",
    "    dec = {0:'F', 1:'L'}\n",
    "    for i in range(L):\n",
    "        if l[i]!=-1:\n",
    "            c += dec[l[i]]\n",
    "        else:\n",
    "            c += \"o\"\n",
    "    return c\n",
    "\n",
    "s=0\n",
    "P_vec = viterby (Path, A,E)\n",
    "\n",
    "for i in range(L):\n",
    "    if translation(vec_sost)[i] == translation(P_vec)[i]:\n",
    "        s+=1\n",
    "print('\\nЧастота совпадения:', s/L)\n",
    "\n",
    "\n",
    "print(translation(vec_sost),\"_\"*100, translation(P_vec), sep='\\n')"
   ]
  },
  {
   "cell_type": "code",
   "execution_count": 293,
   "metadata": {},
   "outputs": [
    {
     "data": {
      "image/png": "[encoded data removed]",
      "text/plain": [
       "<Figure size 432x288 with 1 Axes>"
      ]
     },
     "metadata": {},
     "output_type": "display_data"
    }
   ],
   "source": [
    "from pylab import *\n",
    "plot(array(P_vec[1:]))\n",
    "show()"
   ]
  },
  {
   "cell_type": "markdown",
   "metadata": {},
   "source": [
    "# Forward"
   ]
  },
  {
   "cell_type": "code",
   "execution_count": 294,
   "metadata": {},
   "outputs": [
    {
     "name": "stdout",
     "output_type": "stream",
     "text": [
      "9.761535455167552e-231\n"
     ]
    }
   ],
   "source": [
    "FV_matr = np.zeros((2, L))\n",
    "m_F = np.zeros(L)\n",
    "s = stationary_distribution(A)\n",
    "FV_matr[0][0] = 1\n",
    "FV_matr[1][0] = 1\n",
    "FV_matr[0][1] = E[0][Path[0]-1]*s[0]\n",
    "FV_matr[1][1] = E[1][Path[0]-1]*s[1]\n",
    "\n",
    "for i in range (2,L):\n",
    "    for j in range(2):        \n",
    "        FV_matr[j][i] = E[j][Path[i-1]-1]*(A[0][j]*FV_matr[0][i-1] + A[1][j]*FV_matr[1][i-1])\n",
    "    \n",
    "    \n",
    "        \n",
    "#F_res = FV_matr[0][-1]*A[0][0] + FV_matr[1][-1]*A[1][0]\n",
    "F_res = FV_matr[0][-1] + FV_matr[1][-1]\n",
    "print(F_res)\n"
   ]
  },
  {
   "cell_type": "markdown",
   "metadata": {},
   "source": [
    "# Backward"
   ]
  },
  {
   "cell_type": "code",
   "execution_count": 295,
   "metadata": {},
   "outputs": [
    {
     "name": "stdout",
     "output_type": "stream",
     "text": [
      "9.761535455167678e-231\n"
     ]
    }
   ],
   "source": [
    "BV_matr = np.zeros((2, L))\n",
    "m_b = np.zeros(L)\n",
    "s = stationary_distribution(A)\n",
    "#BV_matr[0][-1]=A[0][0]\n",
    "#BV_matr[1][-1]=A[1][0]\n",
    "BV_matr[0][-1]=1\n",
    "BV_matr[1][-1]=1\n",
    "for i in range (L-2,-1,-1):\n",
    "    for j in range(2):\n",
    "        BV_matr[j][i] = A[j][0]*E[0][Path[i]-1]*BV_matr[0][i+1]+A[j][1]*E[1][Path[i]-1]*BV_matr[1][i+1]\n",
    "    \n",
    "    \n",
    "    \n",
    "B_res = BV_matr[0][0]*s[0] + BV_matr[1][0]*s[1]\n",
    "#B_res = A[0][0]*E[0][Path[0]-1]*BV_matr[0][0] + A[0][1]*E[1][Path[0]-1]*BV_matr[1][0]\n",
    "print(B_res)\n"
   ]
  },
  {
   "cell_type": "code",
   "execution_count": 223,
   "metadata": {},
   "outputs": [
    {
     "name": "stdout",
     "output_type": "stream",
     "text": [
      "[0.90327057 0.59080045 0.67045701 0.70255689 0.69843574 0.65663823\n",
      " 0.5624041  0.56410008 0.52225957 0.5649115  0.56394888 0.51903179\n",
      " 0.41429832 0.40640623 0.48569159 0.5119132  0.49433087 0.42673564\n",
      " 0.44399251 0.41607791 0.4699789  0.67169777 0.78212644 0.8402614\n",
      " 0.86663226 0.87055157 0.85340337 0.90647297 0.93502022 0.94912622\n",
      " 0.95377233 0.95059926 0.93848647 0.91315649 0.86566437 0.77923887\n",
      " 0.78024442 0.86991232 0.91978647 0.9474793  0.96277017 0.97105885\n",
      " 0.97527239 0.97689875 0.97651225 0.97397641 0.96839573 0.95779945\n",
      " 0.93844565 0.90349978 0.84062114 0.72760494 0.71577537 0.79064699\n",
      " 0.82550267 0.83265124 0.81461713 0.76503181 0.7936592  0.79275107\n",
      " 0.76198674 0.69050217 0.5530535  0.53034833 0.45708231 0.47121638\n",
      " 0.44047679 0.49240617 0.4974239  0.60133556 0.64785896 0.65342326\n",
      " 0.61999342 0.53576412 0.54382147 0.65403178 0.70654861 0.71991759\n",
      " 0.83626685 0.90099226 0.93695075 0.95684063 0.96768573 0.97331589\n",
      " 0.9757193  0.97574472 0.9734011  0.96786084 0.95716746 0.93754473\n",
      " 0.90206314 0.92629694 0.93575366 0.93377283 0.91965494 0.88841442\n",
      " 0.82901911 0.72049429 0.71135562 0.66440407 0.56305928 0.37153265\n",
      " 0.31930748 0.20034398 0.17190815 0.09091053 0.06926163 0.08045215\n",
      " 0.13818501 0.1512986  0.12442383 0.14429797 0.12485705 0.15228848\n",
      " 0.2601823  0.58065556 0.75904218 0.85833709 0.91360504 0.94436321\n",
      " 0.96147344 0.970978   0.97623329 0.97909517 0.98057426 0.98119288\n",
      " 0.9811695  0.98049585 0.97893406 0.97593258 0.97043149 0.96048815\n",
      " 0.94259119 0.91042053 0.93601657 0.94797123 0.95050617 0.94451655\n",
      " 0.92788724 0.89474579 0.83338872 0.84662893 0.8362813  0.90135508\n",
      " 0.93757758 0.9577403  0.96896347 0.97521039 0.97868708 0.98062131\n",
      " 0.98169611 0.98229104 0.9826162  0.98278639 0.98286174 0.98286884\n",
      " 0.9828102  0.98266512 0.98238236 0.98186206 0.98092049 0.97922516\n",
      " 0.97617736 0.97070082 0.96086155 0.94318496 0.91142878 0.93720121\n",
      " 0.94946955 0.95256622 0.94758475 0.932766   0.90287693 0.93224726\n",
      " 0.94659716 0.95099411 0.94699082 0.93317361 0.90466309 0.93505047\n",
      " 0.95056404 0.9566822  0.95556551 0.94681962 0.92735605 0.89030146\n",
      " 0.82257051 0.83239432 0.81711115 0.77132394 0.67886352 0.68039551\n",
      " 0.64399959 0.6916629  0.70031464 0.80907047 0.86752271 0.89631303\n",
      " 0.90560837 0.89869125 0.87311898 0.91267748 0.93223566 0.93870025\n",
      " 0.93435415 0.91766256 0.88273109 0.81722411 0.69800868 0.68372063\n",
      " 0.6285642  0.5130616  0.29642455 0.23064932 0.23519351 0.31562149\n",
      " 0.57041812 0.70993842 0.78345218 0.81691987 0.82216018 0.80102363\n",
      " 0.85601672 0.88137672 0.88605918 0.87171767 0.83328765 0.75719805\n",
      " 0.61657881 0.36177204 0.28292184 0.28347539 0.23730713 0.12811336\n",
      " 0.09759601 0.10838632 0.17369711 0.19096391 0.16628425 0.19639709\n",
      " 0.18404093 0.23153636 0.39704201 0.47944066 0.50783033 0.65552828\n",
      " 0.73228153 0.76519452 0.76589004 0.73461372 0.66032072 0.67447394\n",
      " 0.79440414 0.85920789 0.89176981 0.90358873 0.89883836 0.87584115\n",
      " 0.82647593 0.73331002 0.56344305 0.52512284 0.57142592 0.57381544\n",
      " 0.67470139 0.72174098 0.73154564 0.84058775 0.90096451 0.9339972\n",
      " 0.9513509  0.95915385 0.96016156 0.95472988 0.9409407  0.91392454\n",
      " 0.94381649 0.96020486 0.96887702 0.97289542 0.9736791  0.97150481\n",
      " 0.96560474 0.95389533 0.93224158 0.89299673 0.82230197 0.69519233\n",
      " 0.67684598 0.6160744  0.49141687 0.47456527 0.40743777 0.26632914\n",
      " 0.23196895 0.14050384 0.11993798 0.14508826 0.13073017 0.16516305]\n"
     ]
    }
   ],
   "source": [
    "#Апостериорное дешифрование\n",
    "def aposter(For_matr, Back_matr, L):\n",
    "    apstr = np.zeros(L)\n",
    "    for i in range(L):\n",
    "        apstr[i] = (For_matr[0][i]*Back_matr[0][i])/(For_matr[0][-1] + For_matr[1][-1])\n",
    "    return(apstr)\n",
    "\n",
    "\n",
    "apstr = aposter(FV_matr, BV_matr, L)\n",
    "print(apstr)"
   ]
  },
  {
   "cell_type": "code",
   "execution_count": null,
   "metadata": {},
   "outputs": [],
   "source": []
  },
  {
   "cell_type": "code",
   "execution_count": null,
   "metadata": {},
   "outputs": [],
   "source": []
  },
  {
   "cell_type": "code",
   "execution_count": null,
   "metadata": {},
   "outputs": [],
   "source": []
  },
  {
   "cell_type": "code",
   "execution_count": null,
   "metadata": {},
   "outputs": [],
   "source": []
  },
  {
   "cell_type": "code",
   "execution_count": 154,
   "metadata": {},
   "outputs": [],
   "source": [
    "c = [[],[]]\n",
    "c[0] = [math.log1p(el+1) for el in V_matr[0]]\n",
    "c[1] = [math.log1p(el+1) for el in V_matr[1]]\n"
   ]
  },
  {
   "cell_type": "code",
   "execution_count": null,
   "metadata": {},
   "outputs": [],
   "source": []
  }
 ],
 "metadata": {
  "kernelspec": {
   "display_name": "Python 3",
   "language": "python",
   "name": "python3"
  },
  "language_info": {
   "codemirror_mode": {
    "name": "ipython",
    "version": 3
   },
   "file_extension": ".py",
   "mimetype": "text/x-python",
   "name": "python",
   "nbconvert_exporter": "python",
   "pygments_lexer": "ipython3",
   "version": "3.6.5"
  }
 },
 "nbformat": 4,
 "nbformat_minor": 2
}

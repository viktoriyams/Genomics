{
 "cells": [
  {
   "cell_type": "code",
   "execution_count": 1,
   "metadata": {},
   "outputs": [],
   "source": [
    "import random\n",
    "import numpy as np\n",
    "import math\n",
    "import matplotlib.pyplot as plt\n",
    "import time\n",
    "import copy"
   ]
  },
  {
   "cell_type": "code",
   "execution_count": 2,
   "metadata": {},
   "outputs": [],
   "source": [
    "def stationary_distribution(A):\n",
    "    n = len(A)\n",
    "    M1 = np.vstack(((A.transpose() - np.eye(n))[:-1],np.ones(n)))\n",
    "    v1 = np.eye(n)[-1]\n",
    "    p = np.linalg.solve(M1,v1)\n",
    "    return p"
   ]
  },
  {
   "cell_type": "code",
   "execution_count": 3,
   "metadata": {},
   "outputs": [],
   "source": [
    "E = np.array([[1/6,1/6,1/6,1/6,1/6,1/6],[0.1,0.1,0.1,0.1,0.1,0.5]])\n",
    "A = np.array([[0.95,0.05],[0.1,0.9]])\n",
    "s = stationary_distribution(A)\n",
    "L = 300\n",
    "M = 2 #number of states\n",
    "K = 6 #number of possible emissions"
   ]
  },
  {
   "cell_type": "code",
   "execution_count": 4,
   "metadata": {},
   "outputs": [],
   "source": [
    "def HMM(E, A, L):\n",
    "    dices = [0, 1]\n",
    "    score = [0, 1, 2, 3, 4, 5]\n",
    "    vec_sost, Path = np.zeros(L, dtype=np.int), np.zeros(L, dtype=np.int)\n",
    "    vec_sost[0] = np.random.choice(dices, 1, p = s)\n",
    "    for i in range(1, L):\n",
    "        vec_sost[i] = np.random.choice(dices, 1, p = A[int(vec_sost[i-1])])\n",
    "        Path[i] = np.random.choice(score, 1, p = E[int(vec_sost[i-1])])\n",
    "    return(Path, vec_sost)"
   ]
  },
  {
   "cell_type": "markdown",
   "metadata": {},
   "source": [
    "# Viterbi"
   ]
  },
  {
   "cell_type": "code",
   "execution_count": 5,
   "metadata": {},
   "outputs": [],
   "source": [
    "def viterby (Path, A, E):\n",
    "    V_matr = np.zeros((2, L))\n",
    "    P_matr = [[],[]]\n",
    "\n",
    "    V_matr[0][0] = s[0]*E[0][Path[0]-1]\n",
    "    V_matr[1][0] = s[1]*E[1][Path[0]-1]\n",
    "\n",
    "    for i in range (1,L):\n",
    "        for j in range(2):\n",
    "            V_matr[j][i] = E[j][Path[i]-1]*max(A[0][j]*V_matr[0][i-1], A[1][j]*V_matr[1][i-1])\n",
    "            P_matr[j].append(np.argmax([A[0][j]*V_matr[0][i-1], A[1][j]*V_matr[1][i-1]]))\n",
    "    P_matr = np.array(P_matr)\n",
    "    \n",
    "    P_vec = np.zeros(L)\n",
    "    P_vec[-1] = np.argmax([A[0][0]*V_matr[0][-1],A[1][0]*V_matr[1][-1]])\n",
    "    for i in range(L-2,-1,-1):\n",
    "        P_vec[i] = P_matr[int(P_vec[i+1])][i]\n",
    "    return(P_vec)\n",
    "\n",
    "\n",
    "def translation(l):\n",
    "    L = len(l)\n",
    "    c = ''\n",
    "    dec = {0:'F', 1:'L'}\n",
    "    for i in range(L):\n",
    "        if l[i]!=-1:\n",
    "            c += dec[l[i]]\n",
    "        else:\n",
    "            c += \"o\"\n",
    "    return c"
   ]
  },
  {
   "cell_type": "code",
   "execution_count": 6,
   "metadata": {},
   "outputs": [
    {
     "name": "stdout",
     "output_type": "stream",
     "text": [
      "Наблюдения:\n",
      "[0 2 0 1 2 5 1 1 2 0 4 5 3 4 2 1 5 1 5 4 2 4 5 4 2 5 5 5 4 4 5 5 0 0 5 0 3\n",
      " 5 0 1 5 5 5 5 5 0 3 3 5 0 1 0 5 5 0 1 5 5 5 5 5 4 4 5 5 0 5 4 0 5 5 1 5 3\n",
      " 4 4 1 5 5 1 1 2 0 5 2 2 5 2 1 2 5 3 3 3 3 3 1 4 4 0 4 5 4 4 5 0 2 1 4 3 4\n",
      " 0 5 5 5 3 0 0 1 4 5 2 3 3 0 1 4 1 5 3 4 3 3 2 5 5 0 2 1 3 3 0 2 3 5 5 1 2\n",
      " 1 5 0 0 1 0 3 3 5 1 4 5 0 4 5 5 3 5 4 3 4 5 5 5 3 1 3 2 4 3 5 4 0 0 2 0 5\n",
      " 2 3 1 5 2 5 5 2 4 4 2 5 4 0 5 0 0 4 2 4 5 5 5 0 3 3 4 5 0 4 2 2 4 0 3 2 0\n",
      " 5 0 4 0 0 2 3 1 0 5 5 3 2 2 1 3 1 5 0 0 3 5 4 0 1 5 4 0 3 5 1 0 0 0 5 5 4\n",
      " 0 2 0 4 5 1 2 4 3 5 4 1 2 5 5 2 4 2 1 2 2 1 4 1 5 0 1 2 4 0 5 5 3 3 3 3 4\n",
      " 3 2 1 3]\n",
      "Состояния: \n",
      "[1 1 1 0 0 0 0 0 0 0 0 0 0 0 0 0 0 0 0 0 0 0 0 0 1 1 1 1 1 1 1 0 0 0 1 1 1\n",
      " 1 1 1 1 1 1 1 1 1 1 1 0 0 0 0 1 1 1 1 1 1 1 1 1 1 1 1 1 1 1 1 1 1 1 1 0 0\n",
      " 0 0 1 1 0 0 0 0 0 0 0 0 0 0 0 0 0 0 0 0 0 0 0 0 0 0 0 0 0 0 0 0 0 0 0 0 0\n",
      " 0 0 0 0 0 0 0 0 0 0 0 0 0 0 0 0 0 0 0 0 0 0 0 0 0 1 1 1 1 1 1 1 1 1 1 1 0\n",
      " 0 0 0 0 0 0 0 0 0 0 0 0 0 1 1 0 0 0 0 0 0 0 0 0 0 0 0 0 0 0 0 0 0 0 0 0 0\n",
      " 0 0 1 1 1 1 1 0 1 1 1 1 1 1 0 0 0 0 0 0 0 0 0 0 0 0 1 0 0 0 0 0 0 0 0 0 0\n",
      " 0 0 0 0 0 0 0 0 0 1 1 1 1 0 0 0 0 0 0 0 0 0 0 0 0 0 0 0 0 0 0 0 0 1 1 1 1\n",
      " 1 0 0 0 0 0 0 0 0 0 0 0 0 0 0 0 0 0 0 0 0 0 0 0 0 0 0 0 0 0 0 0 0 0 0 0 0\n",
      " 0 0 0 0]\n"
     ]
    }
   ],
   "source": [
    "Path, vec_sost = HMM(E,A,L)   \n",
    "print(\"Наблюдения:\", Path, \"Состояния: \", vec_sost, sep = '\\n')"
   ]
  },
  {
   "cell_type": "code",
   "execution_count": 7,
   "metadata": {},
   "outputs": [
    {
     "name": "stdout",
     "output_type": "stream",
     "text": [
      "Частота совпадения: 0.7333333333333333\n",
      "LLLFFFFFFFFFFFFFFFFFFFFFLLLLLLLFFFLLLLLLLLLLLLLLFFFFLLLLLLLLLLLLLLLLLLLLFFFFLLFFFFFFFFFFFFFFFFFFFFFFFFFFFFFFFFFFFFFFFFFFFFFFFFFFFFFFFFFFLLLLLLLLLLLFFFFFFFFFFFFFFLLFFFFFFFFFFFFFFFFFFFFFFFFLLLLLFLLLLLLFFFFFFFFFFFFLFFFFFFFFFFFFFFFFFFFLLLLFFFFFFFFFFFFFFFFFFFFLLLLLFFFFFFFFFFFFFFFFFFFFFFFFFFFFFFFFFFFFFFFF\n",
      "____________________________________________________________________________________________________\n",
      "FFFFFFFFFFFFFFFFFFFFFFFFFFFFFFFFFFFFFFFFFFFFFFFFFFFFFFFFFFFFFFFFFFFFFFFFFFFFFFFFFFFFFFFFFFFFFFFFFFFFFFFFFFFFFFFFFFFFFFFFFFFFFFFFFFFFFFFFFFFFFFFFFFFFFFFFFFFFFFFFFFFFFFFFFFFFFFFFFFFFFFFFFFFFFFFFFFFFFFFFFFFFFFFFFFFFFFFFFFFFFFFFFFFFFFFFFFFFFFFFFFFFFFFFFFFFFFFFFFFFFFFFFFFFFFFFFFFFFFFFFFFFFFFFFFFFFFFFFFFF\n"
     ]
    }
   ],
   "source": [
    "P_vec = viterby (Path, A, E)\n",
    "\n",
    "summ=0\n",
    "for i in range(L):\n",
    "    if translation(vec_sost)[i] == translation(P_vec)[i]:\n",
    "        summ+=1\n",
    "print('Частота совпадения:', summ/L)\n",
    "print(translation(vec_sost),\"_\"*100, translation(P_vec), sep='\\n')"
   ]
  },
  {
   "cell_type": "code",
   "execution_count": 8,
   "metadata": {},
   "outputs": [],
   "source": [
    "#Алгоритм прямого распространения\n",
    "def Forward_algoritm(obs_seq, transit, emis, pi):\n",
    "    L = len(obs_seq) \n",
    "    M = len(emis)\n",
    "    forw = np.zeros((M, L))\n",
    "    scaling = np.zeros(L)\n",
    "    forw[:,0] = pi*emis[:, obs_seq[0]-1]\n",
    "    scaling[0] = max(forw[:, 0])\n",
    "    forw[:, 0] /= scaling[0]\n",
    "    for i in range(1, L):\n",
    "        for j in range(M):\n",
    "            forw[j,i] = emis[j, obs_seq[i]]*sum(forw[:, i-1]*transit[:, j])\n",
    "        scaling[i] = max(forw[:,i])\n",
    "        forw[:,i] /= scaling[i]\n",
    "    proba = sum(forw[:,-1]) \n",
    "    return forw, proba, scaling"
   ]
  },
  {
   "cell_type": "code",
   "execution_count": 9,
   "metadata": {},
   "outputs": [],
   "source": [
    "#Алгоритм обратного распространения\n",
    "def Backward_algoritm(obs_seq, A, E, X):\n",
    "    L = len(obs_seq) \n",
    "    M = len(E)\n",
    "    back = np.zeros((M, L))\n",
    "    scaling = np.zeros(L)\n",
    "    back[:,-1] = np.array([1,1])\n",
    "    scaling[-1] = 1\n",
    "    for i in range(L-2, -1, -1):\n",
    "        for j in range(M):\n",
    "            back[j,i] = sum(back[:,i+1]*A[j]*E[:,obs_seq[i+1]])\n",
    "        scaling[i] = max(back[:,i])\n",
    "        back[:,i] /= scaling[i]\n",
    "    proba = sum(back[:,0]*X*E[:,obs_seq[0]-1])\n",
    "    return back, proba, scaling"
   ]
  },
  {
   "cell_type": "code",
   "execution_count": 11,
   "metadata": {},
   "outputs": [
    {
     "name": "stdout",
     "output_type": "stream",
     "text": [
      "1.076636311129276 0.16121573532980088\n"
     ]
    }
   ],
   "source": [
    "forw, prob_forw, m_f = Forward_algoritm(Path, A, E, s)\n",
    "back, prob_back, m_b = Backward_algoritm(Path, A, E, s)\n",
    "print(prob_forw,prob_back)"
   ]
  },
  {
   "cell_type": "code",
   "execution_count": 12,
   "metadata": {},
   "outputs": [],
   "source": [
    "def find_posterior(F, B, P, m_f, m_b):\n",
    "    L = len(F)\n",
    "    Result = np.zeros(L)\n",
    "    for i in range(L):\n",
    "        Result[i] = np.log(F[i]) + sum(np.log(m_f[:i+1])) + np.log(B[i]) + sum(np.log(m_b[i:])) - np.log(P) - sum(np.log(m_f))\n",
    "    return np.exp(Result)"
   ]
  },
  {
   "cell_type": "code",
   "execution_count": 13,
   "metadata": {},
   "outputs": [],
   "source": [
    "post_prob = find_posterior(forw[0],back[0], prob_forw, m_f, m_b)"
   ]
  },
  {
   "cell_type": "code",
   "execution_count": 14,
   "metadata": {},
   "outputs": [
    {
     "data": {
      "image/png": "[encoded data removed]",
      "text/plain": [
       "<Figure size 1440x432 with 1 Axes>"
      ]
     },
     "metadata": {},
     "output_type": "display_data"
    }
   ],
   "source": [
    "fig, ax = plt.subplots(1, 1, figsize=(20, 6),facecolor=\"ivory\")\n",
    "for i in range(L):\n",
    "    if vec_sost[i] == 0:\n",
    "        plt.axvline(x = i, color = 'white')\n",
    "    else:\n",
    "        plt.axvline(x = i, color = 'pink')\n",
    "plt.plot(range(L), post_prob, color = 'black', linewidth = 4)\n",
    "plt.title('Posterior probability with simulated path areas')\n",
    "plt.show()"
   ]
  },
  {
   "cell_type": "code",
   "execution_count": 15,
   "metadata": {},
   "outputs": [],
   "source": [
    "# Функция нахождения суммы двух чисел в логарифмическом пространстве\n",
    "# Входные параметры: логарфмы двух чисел\n",
    "# Выходной параметр: логарифм суммы двух чисел\n",
    "def logsum(x,y):\n",
    "     return x + np.log(1 + np.exp(y-x))\n",
    "\n",
    "# Функция нахождения суммы координат вектора в логарифмическом пространстве\n",
    "# Входные параметры: логарфмы двух чисел\n",
    "# Выходной параметр: логарифм суммы двух чисел\n",
    "def logsum_n(vect):\n",
    "    result = vect[0]\n",
    "    for i in range(1,len(vect)):\n",
    "        result = logsum(result, vect[i])\n",
    "    return result\n",
    "\n",
    "# Функция нормирования матриц по строкам (сумма по строке матрицы равна 1)\n",
    "# Входные параметры: матрица\n",
    "# Выходной параметр: нормированная по строкам матрица\n",
    "def norm_matrix(x):\n",
    "    return (x.transpose()/sum(x.transpose())).transpose()\n",
    "\n",
    "# Функция создания п последовательностей наблюдей\n",
    "# Входные параметры: число последовательностей, длина постедовательностей, матрица переходных вероятностей, матрица эмиссий \n",
    "# Выходной параметр: массив последовательностей наблюдений\n",
    "def Rolls_create(n, L, A, E):\n",
    "    Rolls_all = np.zeros(((n, L)), dtype=int)\n",
    "    for i in range(n):\n",
    "        Rolls_all[i] = HMM(E,A,L)[0]\n",
    "    return Rolls_all\n",
    "\n",
    "# Алгоритм Баума-Велша нахождения параметров задачи\n",
    "# Входные параметры: массив последовательностей наблюдений, первоначальная матрица переходных вероятностей, \n",
    "# первоначальная матрица эмиссий, точность поиска (пороговое значение логарифма максимального правдоподобия)\n",
    "# Выходной параметр: итоговая матрица переходных вероятностей, итоговая матрица эмиссийб время работы алгоритма, число итераций\n",
    "def Baum_Welch(Rolls_all, A0, E0, eps, max_iter):\n",
    "    L = len(Rolls_all[0])\n",
    "    M = len(E0)\n",
    "    R = len(E0.transpose())\n",
    "    n = len(Rolls_all)\n",
    "    t = len(eps)\n",
    "    start_time = time.time()\n",
    "    time_all = np.zeros(t)\n",
    "    iterations = np.zeros((t,), dtype = int)\n",
    "    A_finished = []\n",
    "    E_finished = []\n",
    "    A_all = []\n",
    "    E_all = []\n",
    "    A_all.append(A0)\n",
    "    E_all.append(E0)\n",
    "    X = stationary_distribution(A0)\n",
    "    i = 0\n",
    "    q = 0\n",
    "    while(1):\n",
    "        resultA1 = np.zeros((M,M))\n",
    "        resultE1 = np.zeros((M,R))\n",
    "        Q = 0\n",
    "        for j in range(n):\n",
    "            resultA2 = np.zeros((M,M))\n",
    "            resultE2 = np.zeros((M,R))\n",
    "            Forward, P_x_1, m_f = Forward_algoritm(Rolls_all[j], A_all[i], E_all[i], X)\n",
    "            Backward, P_x_2, m_b = Backward_algoritm(Rolls_all[j], A_all[i], E_all[i], X)\n",
    "            log_P_x = np.log(P_x_1) + sum(np.log(m_f))\n",
    "            for k in range(L-1):\n",
    "                log_sum = (np.zeros((M,M)) + (np.log(Forward[:,k])).reshape(M,1) + sum(np.log(m_f[:k+1])) + np.log(A_all[i]) + \n",
    "                           + np.log(Backward[:,k+1]) + sum(np.log(m_b[k+1:])) + np.log(E_all[i][:, Rolls_all[j][k+1]-1]) - log_P_x)\n",
    "                if k == 0:\n",
    "                    resultA2 = log_sum\n",
    "                else:\n",
    "                    resultA2 = logsum(resultA2, log_sum)\n",
    "            for k in range(L):\n",
    "                log_sum = (np.log(Forward[:,k]) + sum(np.log(m_f[:k+1])) + np.log(Backward[:,k]) + sum(np.log(m_b[k:])) - log_P_x)\n",
    "                if (resultE2[:, Rolls_all[j][k]-1] == np.zeros(M)).all():\n",
    "                    resultE2[:, Rolls_all[j][k]-1] = log_sum                \n",
    "                else:\n",
    "                    resultE2[:, Rolls_all[j][k]-1] = logsum(resultE2[:, Rolls_all[j][k]-1], log_sum)\n",
    "            \n",
    "            if j == 0 :\n",
    "                resultA1 = copy.deepcopy(resultA2)\n",
    "                resultE1 = copy.deepcopy(resultE2)\n",
    "            else:\n",
    "                resultA1 = logsum(resultA1, resultA2)\n",
    "                resultE1 = logsum(resultE1, resultE2)\n",
    "        resultA1 = norm_matrix(np.exp(resultA1))\n",
    "        X = stationary_distribution(resultA1)\n",
    "        resultE1 = norm_matrix(np.exp(resultE1))\n",
    "        A_all.append(np.array(resultA1))\n",
    "        E_all.append(np.array(resultE1))\n",
    "        if ((abs(np.log(A_all[-1]/A_all[-2])) < np.ones((M,M))*eps[q]).all() and \n",
    "            (abs(np.log(E_all[-1]/E_all[-2])) < np.ones((M,R))*eps[q]).all()):\n",
    "            time_all[q] = (time.time()-start_time)/60\n",
    "            iterations[q] = i + 1\n",
    "            A_finished.append(A_all[-1])\n",
    "            E_finished.append(E_all[-1])\n",
    "            if (q == t-1) or (max_iter<=iterations[q]): \n",
    "                break\n",
    "            q += 1\n",
    "        i += 1\n",
    "    return A_finished, E_finished, time_all, iterations\n",
    "\n",
    "# Функция печати результатов алгоритма Баума-Велша\n",
    "# Входные параметры: результаты алгоритма Baum_Welch\n",
    "# Выходной параметр: иллюстрация результатов алгоритма Baum_Welch\n",
    "def print_Baum_Welch(BW, eps):\n",
    "    for i in range(len(BW[0])):  \n",
    "        print('eps =', eps[i])\n",
    "        print('A:', np.around(BW[0][i], decimals = 2), sep = '\\n')\n",
    "        print('E:', np.around(BW[1][i], decimals = 2), sep = '\\n')\n",
    "        print('Время выполнения (в минутах):', BW[2][i])\n",
    "        print('Число итераций:', BW[3][i])\n",
    "        print('')"
   ]
  },
  {
   "cell_type": "code",
   "execution_count": 16,
   "metadata": {},
   "outputs": [
    {
     "name": "stdout",
     "output_type": "stream",
     "text": [
      "Матрица вероятностей переходов А:\n",
      "[[0.16300264 0.83699736]\n",
      " [0.79588091 0.20411909]]\n",
      "Эмиссионная матрица Е:\n",
      "[[0.20776467 0.45858982 0.09379632 0.21039386 0.00952224 0.01993309]\n",
      " [0.6438228  0.12355162 0.1246451  0.05470469 0.04815744 0.00511835]]\n",
      "Вектор стац. распределения матрицы А:\n",
      "[0.48740982 0.51259018]\n"
     ]
    }
   ],
   "source": [
    "def init_radn_val(M,K):\n",
    "    A_new = np.zeros((M,M))\n",
    "    E_new = np.zeros((M,K))\n",
    "    \n",
    "    for i in range(M):\n",
    "        A_new[i][i] = np.random.random()\n",
    "        for j in range(K-1):\n",
    "            summ_E = 1-sum(E_new[i])\n",
    "            E_new[i][j] = np.random.uniform(0,summ_E)\n",
    "    for i in range(M):\n",
    "        E_new[i][K-1]=1-sum(E_new[i])\n",
    "    A_new[0][1]=1-A_new[0][0]\n",
    "    A_new[1][0]=1-A_new[1][1]\n",
    "    return(A_new, E_new)\n",
    "    \n",
    "A0, E0 = init_radn_val(M,K)\n",
    "s0 = stationary_distribution(A0)\n",
    "print(\"Матрица вероятностей переходов А:\",A0,\"Эмиссионная матрица Е:\",E0,\"Вектор стац. распределения матрицы А:\", s0,sep=\"\\n\")"
   ]
  },
  {
   "cell_type": "code",
   "execution_count": 18,
   "metadata": {},
   "outputs": [
    {
     "name": "stdout",
     "output_type": "stream",
     "text": [
      "eps = 0.1\n",
      "A:\n",
      "[[0. 1.]\n",
      " [0. 1.]]\n",
      "E:\n",
      "[[0.17 0.11 0.15 0.13 0.29 0.14]\n",
      " [0.16 0.12 0.15 0.14 0.28 0.15]]\n",
      "Время выполнения (в минутах): 1.0777286052703858\n",
      "Число итераций: 971\n",
      "\n"
     ]
    }
   ],
   "source": [
    "n = 1\n",
    "L = 300\n",
    "eps = np.array([1.e-1,1.e-2])\n",
    "max_iter = 200\n",
    "Rolls_all = Rolls_create(n, L, A, E)\n",
    "BW = Baum_Welch(Rolls_all, A0, E0, eps, max_iter)\n",
    "print_Baum_Welch(BW, eps)"
   ]
  },
  {
   "cell_type": "code",
   "execution_count": null,
   "metadata": {},
   "outputs": [],
   "source": []
  }
 ],
 "metadata": {
  "kernelspec": {
   "display_name": "Python 3",
   "language": "python",
   "name": "python3"
  },
  "language_info": {
   "codemirror_mode": {
    "name": "ipython",
    "version": 3
   },
   "file_extension": ".py",
   "mimetype": "text/x-python",
   "name": "python",
   "nbconvert_exporter": "python",
   "pygments_lexer": "ipython3",
   "version": "3.6.5"
  }
 },
 "nbformat": 4,
 "nbformat_minor": 2
}
